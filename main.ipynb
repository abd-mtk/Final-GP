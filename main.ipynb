{
 "cells": [
  {
   "cell_type": "markdown",
   "metadata": {},
   "source": [
    "## Importing the necessary libraries\n",
    "* working with the python version 3.10.10"
   ]
  },
  {
   "cell_type": "code",
   "execution_count": 1,
   "metadata": {},
   "outputs": [],
   "source": [
    "import gradio as gr\n",
    "import numpy as np\n",
    "from keras.models import load_model"
   ]
  },
  {
   "cell_type": "markdown",
   "metadata": {},
   "source": [
    "### Importing Custom Modules"
   ]
  },
  {
   "cell_type": "code",
   "execution_count": 2,
   "metadata": {},
   "outputs": [],
   "source": [
    "from utility.draw import Draw\n",
    "from utility.process import Process"
   ]
  },
  {
   "cell_type": "markdown",
   "metadata": {},
   "source": [
    "### Loading Model"
   ]
  },
  {
   "cell_type": "code",
   "execution_count": 3,
   "metadata": {},
   "outputs": [],
   "source": [
    "model = load_model(\"trained model\\\\model 0\")"
   ]
  },
  {
   "cell_type": "markdown",
   "metadata": {},
   "source": [
    "#### Setup the variables for our model"
   ]
  },
  {
   "cell_type": "code",
   "execution_count": 4,
   "metadata": {},
   "outputs": [],
   "source": [
    "actions = np.array([label for label in open('labels.txt', 'r').read().splitlines()])\n",
    "process = Process()\n",
    "draw = Draw()\n",
    "sequence, sentence = [], \"\"\n",
    "threshold = 0.99"
   ]
  },
  {
   "cell_type": "code",
   "execution_count": 5,
   "metadata": {},
   "outputs": [],
   "source": [
    "def clear(text):\n",
    "    global sentence\n",
    "    sentence = \"\"\n",
    "    return sentence\n",
    "\n",
    "def pred(frame,show_keypoint=True):\n",
    "    global sequence, sentence\n",
    "    frame, results  = process.mediapipeDetection(frame)\n",
    "    if results.pose_landmarks:\n",
    "        if show_keypoint:\n",
    "            draw.drawStyledLandmarks(frame, results)\n",
    "        keypoints = process.extractKeypoints(results)\n",
    "        sequence.append(keypoints)\n",
    "        sequence = sequence[-30:]\n",
    "        if len(sequence) == 30:\n",
    "            res = model.predict(np.expand_dims(\n",
    "                sequence, axis=0), verbose=0)[0]\n",
    "            if res[np.argmax(res)] > threshold:\n",
    "                sentence += \" \"+actions[np.argmax(res)]\n",
    "                sequence.clear()\n",
    "            else:\n",
    "                # sentence = \"\"\n",
    "                pass\n",
    "    return sentence , frame\n",
    "\n",
    "\n",
    "isvisible = False\n",
    "def keypoints(image):\n",
    "    global isvisible\n",
    "    isvisible = not isvisible\n",
    "    return gr.update(visible=isvisible)"
   ]
  },
  {
   "cell_type": "code",
   "execution_count": 6,
   "metadata": {},
   "outputs": [
    {
     "name": "stdout",
     "output_type": "stream",
     "text": [
      "Running on local URL:  http://127.0.0.1:7860\n",
      "Running on public URL: https://a5df1c131f164ff014.gradio.live\n",
      "\n",
      "This share link expires in 72 hours. For free permanent hosting and GPU upgrades (NEW!), check out Spaces: https://huggingface.co/spaces\n"
     ]
    },
    {
     "data": {
      "text/html": [
       "<div><iframe src=\"https://a5df1c131f164ff014.gradio.live\" width=\"100%\" height=\"500\" allow=\"autoplay; camera; microphone; clipboard-read; clipboard-write;\" frameborder=\"0\" allowfullscreen></iframe></div>"
      ],
      "text/plain": [
       "<IPython.core.display.HTML object>"
      ]
     },
     "metadata": {},
     "output_type": "display_data"
    },
    {
     "data": {
      "text/plain": []
     },
     "execution_count": 6,
     "metadata": {},
     "output_type": "execute_result"
    }
   ],
   "source": [
    "with gr.Blocks() as app:\n",
    "    with gr.Row():\n",
    "        gr.Label(\"تطبيق ترجمة لغة الاشارة للصم والبكم\")\n",
    "    with gr.Row():\n",
    "        with gr.Column():\n",
    "            webcam = gr.Webcam(shape=(640,480),visible=True)\n",
    "            show_keypoint = gr.Button(\"اظهار نقاط التعرف\")\n",
    "            image = gr.Webcam(shape=(640,480),visible=False)\n",
    "        with gr.Column():\n",
    "            translated = gr.Textbox(label=\"الترجمة\",lines=15)\n",
    "            clearbtn = gr.Button(\"مسح\")\n",
    "\n",
    "    clearbtn.click(clear,inputs=translated,outputs=translated)\n",
    "    show_keypoint.click(keypoints,inputs=image,outputs=image)\n",
    "    webcam.stream(pred,inputs=webcam,outputs=[translated,image])\n",
    "\n",
    "app.launch(share=True)"
   ]
  }
 ],
 "metadata": {
  "kernelspec": {
   "display_name": "Python 3",
   "language": "python",
   "name": "python3"
  },
  "language_info": {
   "codemirror_mode": {
    "name": "ipython",
    "version": 3
   },
   "file_extension": ".py",
   "mimetype": "text/x-python",
   "name": "python",
   "nbconvert_exporter": "python",
   "pygments_lexer": "ipython3",
   "version": "3.10.10"
  },
  "orig_nbformat": 4
 },
 "nbformat": 4,
 "nbformat_minor": 2
}
