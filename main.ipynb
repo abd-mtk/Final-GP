{
 "cells": [
  {
   "cell_type": "markdown",
   "metadata": {},
   "source": [
    "## Importing the necessary libraries\n",
    "* working with the python version 3.10.10"
   ]
  },
  {
   "cell_type": "code",
   "execution_count": 1,
   "metadata": {},
   "outputs": [],
   "source": [
    "import gradio as gr\n",
    "import numpy as np\n",
    "from keras.models import load_model"
   ]
  },
  {
   "cell_type": "markdown",
   "metadata": {},
   "source": [
    "### Importing Custom Modules"
   ]
  },
  {
   "cell_type": "code",
   "execution_count": 2,
   "metadata": {},
   "outputs": [],
   "source": [
    "from utility.draw import Draw\n",
    "from utility.process import Process"
   ]
  },
  {
   "cell_type": "markdown",
   "metadata": {},
   "source": [
    "### Loading Model"
   ]
  },
  {
   "cell_type": "code",
   "execution_count": 3,
   "metadata": {},
   "outputs": [],
   "source": [
    "model = load_model(\"trained model\\\\model 0\")"
   ]
  },
  {
   "cell_type": "markdown",
   "metadata": {},
   "source": [
    "#### Setup the variables for our model"
   ]
  },
  {
   "cell_type": "code",
   "execution_count": 4,
   "metadata": {},
   "outputs": [],
   "source": [
    "actions = np.array([label for label in open('labels.txt', 'r').read().splitlines()])\n",
    "process = Process()\n",
    "draw = Draw()\n",
    "sequence, sentence = [], \"\"\n",
    "threshold = 0.99"
   ]
  },
  {
   "cell_type": "code",
   "execution_count": 144,
   "metadata": {},
   "outputs": [],
   "source": [
    "import cv2\n",
    "\n",
    "\n",
    "def clear(text):\n",
    "    global sentence\n",
    "    sentence = \"\"\n",
    "    return sentence\n",
    "\n",
    "cap = cv2.VideoCapture(\"D:\\\\بحث\\\\mp4\\\\5.mp4\")\n",
    "\n",
    "    \n",
    "def pred(frame,show_keypoint=True):\n",
    "    global sequence, sentence\n",
    "    _, frame = cap.read()\n",
    "    frame, results  = process.mediapipeDetection(frame)\n",
    "    if results.pose_landmarks:\n",
    "        if show_keypoint:\n",
    "            draw.drawStyledLandmarks(frame, results)\n",
    "        keypoints = process.extractKeypoints(results)\n",
    "        sequence.append(keypoints)\n",
    "        sequence = sequence[-30:]\n",
    "        if len(sequence) == 30:\n",
    "            res = model.predict(np.expand_dims(\n",
    "                sequence, axis=0), verbose=0)[0]\n",
    "            if res[np.argmax(res)] > threshold:\n",
    "                sentence += \" \"+actions[np.argmax(res)]\n",
    "                sequence.clear()\n",
    "            else:\n",
    "                # sentence = \"\"\n",
    "                pass\n",
    "    return sentence ,sentence,cv2.flip(cv2.cvtColor(frame, cv2.COLOR_BGR2RGB), 1)\n",
    "\n",
    "\n",
    "isvisible = False\n",
    "def keypoints(image):\n",
    "    global isvisible\n",
    "    isvisible = not isvisible\n",
    "    return gr.update(visible=isvisible)"
   ]
  },
  {
   "cell_type": "code",
   "execution_count": 145,
   "metadata": {},
   "outputs": [
    {
     "name": "stdout",
     "output_type": "stream",
     "text": [
      "Running on local URL:  http://127.0.0.1:7904\n",
      "\n",
      "To create a public link, set `share=True` in `launch()`.\n"
     ]
    },
    {
     "data": {
      "text/html": [
       "<div><iframe src=\"http://127.0.0.1:7904/\" width=\"100%\" height=\"500\" allow=\"autoplay; camera; microphone; clipboard-read; clipboard-write;\" frameborder=\"0\" allowfullscreen></iframe></div>"
      ],
      "text/plain": [
       "<IPython.core.display.HTML object>"
      ]
     },
     "metadata": {},
     "output_type": "display_data"
    },
    {
     "data": {
      "text/plain": []
     },
     "execution_count": 145,
     "metadata": {},
     "output_type": "execute_result"
    }
   ],
   "source": [
    "with gr.Blocks() as app:\n",
    "    with gr.Row():\n",
    "        gr.Label(\"تطبيق ترجمة لغة الاشارة للصم والبكم\")\n",
    "    with gr.Row():\n",
    "        with gr.Column():\n",
    "            webcam = gr.Image(shape=(640,480),visible=False,source=\"webcam\")\n",
    "            video = gr.Video(\"D:\\\\بحث\\\\mp4\\\\5.mp4\")\n",
    "            \n",
    "            show_keypoint = gr.Button(\"اظهار نقاط التعرف\")\n",
    "            image = gr.Image(shape=(640,480),visible=False,source=\"webcam\")\n",
    "        with gr.Column():\n",
    "            translated = gr.Textbox(label=\"الترجمة\",lines=13)\n",
    "            clearbtn = gr.Button(\"مسح\")\n",
    "            \n",
    "            translated2 = gr.Textbox(label=\"الترجمة\",lines=13)\n",
    "            clearbtn2 = gr.Button(\"مسح\")\n",
    "\n",
    "    clearbtn.click(clear,inputs=translated,outputs=translated)\n",
    "    clearbtn2.click(clear,inputs=translated2,outputs=translated2)\n",
    "\n",
    "    show_keypoint.click(keypoints,inputs=image,outputs=image)\n",
    "    webcam.stream(pred,inputs=[webcam],outputs=[translated,translated2,image])\n",
    "\n",
    "app.launch(share=False)"
   ]
  }
 ],
 "metadata": {
  "kernelspec": {
   "display_name": "Python 3",
   "language": "python",
   "name": "python3"
  },
  "language_info": {
   "codemirror_mode": {
    "name": "ipython",
    "version": 3
   },
   "file_extension": ".py",
   "mimetype": "text/x-python",
   "name": "python",
   "nbconvert_exporter": "python",
   "pygments_lexer": "ipython3",
   "version": "3.10.10"
  },
  "orig_nbformat": 4
 },
 "nbformat": 4,
 "nbformat_minor": 2
}
